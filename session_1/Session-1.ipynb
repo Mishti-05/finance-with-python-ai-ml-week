{
 "cells": [
  {
   "cell_type": "markdown",
   "id": "92e3331a-133d-4477-a174-9ecebe097597",
   "metadata": {},
   "source": [
    "# Python Basics\n",
    "This section covers the fundamentals of Python like variables, data types, control flow, lists, dictionaries, etc."
   ]
  },
  {
   "cell_type": "code",
   "execution_count": 1,
   "id": "df442b4a-e652-4c85-a1d0-63205f656a1a",
   "metadata": {},
   "outputs": [],
   "source": [
    "stock_price = 150.75 # float\n",
    "shares = 10 # int\n",
    "stock_name = \"AAPL\" # str\n",
    "is_profitable = True # boolean"
   ]
  },
  {
   "cell_type": "code",
   "execution_count": 2,
   "id": "028bf7b1-c2e1-4cb3-892d-348593c2ce2e",
   "metadata": {},
   "outputs": [
    {
     "name": "stdout",
     "output_type": "stream",
     "text": [
      "stock_price: 150.75 -> <class 'float'>\n",
      "shares: 10 -> <class 'int'>\n",
      "stock_name: AAPL -> <class 'str'>\n",
      "is_profitable: True -> <class 'bool'>\n"
     ]
    }
   ],
   "source": [
    "print(f\"stock_price: {stock_price} -> {type(stock_price)}\")\n",
    "print(f\"shares: {shares} -> {type(shares)}\")\n",
    "print(f\"stock_name: {stock_name} -> {type(stock_name)}\")\n",
    "print(f\"is_profitable: {is_profitable} -> {type(is_profitable)}\")"
   ]
  },
  {
   "cell_type": "code",
   "execution_count": 3,
   "id": "fba53ea1-17f5-48bb-8a40-adb4ba8c01b3",
   "metadata": {},
   "outputs": [
    {
     "name": "stdout",
     "output_type": "stream",
     "text": [
      "stock_prices: [150.75, 152.3, 148, 151.0, 153, 'Closed-Sat', 'Closed-Sun']\n",
      "type(stock_prices): <class 'list'>\n",
      "Length: 7\n",
      "stock_prices[6]: Closed-Sun\n"
     ]
    }
   ],
   "source": [
    "stock_prices = [150.75, 152.30, 148, 151.00, 153, \"Closed-Sat\", \"Closed-Sun\"]\n",
    "print(f\"stock_prices: {stock_prices}\")\n",
    "print(f\"type(stock_prices): {type(stock_prices)}\")\n",
    "print(f\"Length: {len(stock_prices)}\")\n",
    "print(f\"stock_prices[6]: {stock_prices[6]}\")"
   ]
  },
  {
   "cell_type": "code",
   "execution_count": 4,
   "id": "31f1adbe-e98c-417b-95dc-e90dcd4677b5",
   "metadata": {},
   "outputs": [
    {
     "name": "stdout",
     "output_type": "stream",
     "text": [
      "stock_info: {'name': 'AAPL', 'price': 150.75, 'shares': 10}\n",
      "type(stock_info): <class 'dict'>\n",
      "stock_info['shares']: 10\n",
      "stock_info.keys(): dict_keys(['name', 'price', 'shares'])\n",
      "stock_info.values(): dict_values(['AAPL', 150.75, 10])\n",
      "stock_info.items(): dict_items([('name', 'AAPL'), ('price', 150.75), ('shares', 10)])\n",
      "stock_info.get('country'): None\n",
      "stock_info.get('sector', 'Not Found'): Not Found\n"
     ]
    }
   ],
   "source": [
    "stock_info = { \"name\": \"AAPL\", \"price\": 150.75, \"shares\": 10 }\n",
    "print(\"stock_info:\", stock_info)\n",
    "print(\"type(stock_info):\", type(stock_info))\n",
    "print(\"stock_info['shares']:\", stock_info[\"shares\"])\n",
    "print(\"stock_info.keys():\", stock_info.keys())\n",
    "print(\"stock_info.values():\", stock_info.values())\n",
    "print(\"stock_info.items():\", stock_info.items())\n",
    "print(\"stock_info.get('country'):\", stock_info.get(\"country\"))\n",
    "print(\"stock_info.get('sector', 'Not Found'):\", stock_info.get(\"sector\", \"Not Found\"))"
   ]
  },
  {
   "cell_type": "code",
   "execution_count": 15,
   "id": "2d33d581-be5e-430d-9242-67688fa583e9",
   "metadata": {},
   "outputs": [],
   "source": [
    "# Functions\n",
    "def calculate_total_value(price, numOfShares):\n",
    "    return price * numOfShares"
   ]
  },
  {
   "cell_type": "code",
   "execution_count": 22,
   "id": "ec76346f-8b1a-4afd-b80c-975e76251895",
   "metadata": {},
   "outputs": [
    {
     "name": "stdout",
     "output_type": "stream",
     "text": [
      "$1507.5\n",
      "$20800\n"
     ]
    }
   ],
   "source": [
    "total_value = calculate_total_value(stock_price, shares)\n",
    "print(f\"${total_value}\")\n",
    "\n",
    "total_value = calculate_total_value(1300, 16)\n",
    "print(f\"${total_value}\")"
   ]
  },
  {
   "cell_type": "code",
   "execution_count": 23,
   "id": "42380c40-1588-4928-b700-695fd26c024d",
   "metadata": {},
   "outputs": [
    {
     "name": "stdout",
     "output_type": "stream",
     "text": [
      "total_value: 20800\n",
      "This is very profitable\n"
     ]
    }
   ],
   "source": [
    "# Control-Flow\n",
    "print(f\"total_value: {total_value}\")\n",
    "if total_value > 3000 and total_value < 5000:\n",
    "    print(\"This is somewhat profitable\")\n",
    "elif total_value > 5000:\n",
    "    print(\"This is very profitable\")\n",
    "else:\n",
    "    print(\"This is NOT profitable\")"
   ]
  },
  {
   "cell_type": "code",
   "execution_count": 29,
   "id": "1cb3e3f1-133b-47c4-861f-cddba96c579b",
   "metadata": {},
   "outputs": [
    {
     "name": "stdout",
     "output_type": "stream",
     "text": [
      "stock_prices: [150.75, 152.3, 148, 151.0, 153, 'Closed-Sat', 'Closed-Sun']\n",
      "$150.75\n",
      "$152.3\n",
      "$148\n",
      "$151.0\n",
      "$153\n",
      "Closed-Sat\n",
      "Closed-Sun\n"
     ]
    }
   ],
   "source": [
    "# Loops\n",
    "print(f\"stock_prices: {stock_prices}\")\n",
    "for myPrice in stock_prices:\n",
    "    if isinstance(myPrice, str):\n",
    "        print(f\"{myPrice}\")\n",
    "    else:\n",
    "        print(f\"${myPrice}\")"
   ]
  },
  {
   "cell_type": "code",
   "execution_count": null,
   "id": "97bf7952-1eb0-449d-a8dd-5a216088d2da",
   "metadata": {},
   "outputs": [],
   "source": []
  }
 ],
 "metadata": {
  "kernelspec": {
   "display_name": "Python 3 (ipykernel)",
   "language": "python",
   "name": "python3"
  },
  "language_info": {
   "codemirror_mode": {
    "name": "ipython",
    "version": 3
   },
   "file_extension": ".py",
   "mimetype": "text/x-python",
   "name": "python",
   "nbconvert_exporter": "python",
   "pygments_lexer": "ipython3",
   "version": "3.12.4"
  }
 },
 "nbformat": 4,
 "nbformat_minor": 5
}
